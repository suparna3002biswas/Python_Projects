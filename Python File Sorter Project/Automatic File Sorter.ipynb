{
 "cells": [
  {
   "cell_type": "markdown",
   "id": "a22526a2",
   "metadata": {},
   "source": [
    "# Automated File Sorter"
   ]
  },
  {
   "cell_type": "code",
   "execution_count": 34,
   "id": "d69e911a",
   "metadata": {},
   "outputs": [],
   "source": [
    "import os, shutil"
   ]
  },
  {
   "cell_type": "code",
   "execution_count": 44,
   "id": "8b9f496a",
   "metadata": {},
   "outputs": [],
   "source": [
    "path = \"C:/Users/biswa/OneDrive/Python File Sorter Project/\""
   ]
  },
  {
   "cell_type": "code",
   "execution_count": 45,
   "id": "0352ec76",
   "metadata": {},
   "outputs": [],
   "source": [
    "file_name = os.listdir(path)"
   ]
  },
  {
   "cell_type": "code",
   "execution_count": 46,
   "id": "6df25cc4",
   "metadata": {},
   "outputs": [
    {
     "data": {
      "text/plain": [
       "['csv files',\n",
       " 'image files',\n",
       " 'Mall_Customers.csv',\n",
       " 'text files',\n",
       " 'uwp3236586.jpeg']"
      ]
     },
     "execution_count": 46,
     "metadata": {},
     "output_type": "execute_result"
    }
   ],
   "source": [
    "file_name"
   ]
  },
  {
   "cell_type": "code",
   "execution_count": 47,
   "id": "b3a33c65",
   "metadata": {},
   "outputs": [],
   "source": [
    "folder_names = ['csv files', 'image files', 'text files']     # for making directories\n",
    "\n",
    "for loop in range(0,3):\n",
    "    if not os.path.exists(path + folder_names[loop]):\n",
    "        os.makedirs((path + folder_names[loop]))"
   ]
  },
  {
   "cell_type": "code",
   "execution_count": 48,
   "id": "79c169b9",
   "metadata": {},
   "outputs": [],
   "source": [
    "for file in file_name:\n",
    "    if '.csv' in file and not os.path.exists(path + 'csv files/' + file):\n",
    "        shutil.move(path + file , path + 'csv files/' + file)\n",
    "    elif '.jpeg' in file and not os.path.exists(path + 'image files/' + file):\n",
    "        shutil.move(path + file , path + 'image files/' + file)\n",
    "    elif '.txt' in file and not os.path.exists(path + 'text files/' + file):\n",
    "        shutil.move(path + file , path + 'text files/' + file)\n",
    "    "
   ]
  },
  {
   "cell_type": "code",
   "execution_count": null,
   "id": "ea39736e",
   "metadata": {},
   "outputs": [],
   "source": []
  },
  {
   "cell_type": "code",
   "execution_count": null,
   "id": "11dc60c9",
   "metadata": {},
   "outputs": [],
   "source": []
  }
 ],
 "metadata": {
  "kernelspec": {
   "display_name": "Python 3 (ipykernel)",
   "language": "python",
   "name": "python3"
  },
  "language_info": {
   "codemirror_mode": {
    "name": "ipython",
    "version": 3
   },
   "file_extension": ".py",
   "mimetype": "text/x-python",
   "name": "python",
   "nbconvert_exporter": "python",
   "pygments_lexer": "ipython3",
   "version": "3.11.5"
  }
 },
 "nbformat": 4,
 "nbformat_minor": 5
}
